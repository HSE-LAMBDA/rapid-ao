{
 "cells": [
  {
   "cell_type": "code",
   "execution_count": 1,
   "metadata": {},
   "outputs": [
    {
     "name": "stderr",
     "output_type": "stream",
     "text": [
      "/mnt/mborisyak/opt/pyenv/versions/3.6.6/envs/py3/lib/python3.6/site-packages/sklearn/externals/joblib/__init__.py:15: DeprecationWarning: sklearn.externals.joblib is deprecated in 0.21 and will be removed in 0.23. Please import this functionality directly from joblib, which can be installed with: pip install joblib. If this warning is raised when loading pickled models, you may need to re-serialize those models with scikit-learn 0.21+.\n",
      "  warnings.warn(msg, category=DeprecationWarning)\n"
     ]
    }
   ],
   "source": [
    "import matplotlib.pyplot as plt\n",
    "import numpy as np\n",
    "\n",
    "from advopt.tasks import PythiaTracker"
   ]
  },
  {
   "cell_type": "code",
   "execution_count": 2,
   "metadata": {},
   "outputs": [],
   "source": [
    "task = PythiaTracker(n_jobs=None, seed=111)"
   ]
  },
  {
   "cell_type": "code",
   "execution_count": 3,
   "metadata": {},
   "outputs": [],
   "source": [
    "offset = 0.25\n",
    "X_ground_truth, _ = task.ground_truth_generator()(32 * 1024)\n",
    "X_x, _ = task.generator(np.array([offset, 0.0, 0.0]))(32 * 1024)\n",
    "X_y, _ = task.generator(np.array([0.0, offset, 0.0]))(32 * 1024)\n",
    "X_z, _ = task.generator(np.array([0.0, 0.0, offset]))(32 * 1024)"
   ]
  },
  {
   "cell_type": "code",
   "execution_count": 4,
   "metadata": {},
   "outputs": [
    {
     "data": {
      "image/png": "[encoded data removed]",
      "text/plain": [
       "<Figure size 972x468 with 8 Axes>"
      ]
     },
     "metadata": {
      "needs_background": "light"
     },
     "output_type": "display_data"
    }
   ],
   "source": [
    "size = 3\n",
    "space = 0.5\n",
    "plt.subplots(nrows=2, ncols=4, figsize=(4 * size + 3 * space, 2 * size + space))\n",
    "\n",
    "plt.subplot(2, 4, 1)\n",
    "plt.axis('off')\n",
    "plt.imshow(np.mean(X_ground_truth, axis=(0, 1)))\n",
    "\n",
    "plt.subplot(2, 4, 2)\n",
    "plt.axis('off')\n",
    "plt.imshow(np.mean(X_x, axis=(0, 1)))\n",
    "\n",
    "plt.subplot(2, 4, 3)\n",
    "plt.axis('off')\n",
    "plt.imshow(np.mean(X_y, axis=(0, 1)))\n",
    "\n",
    "plt.subplot(2, 4, 4)\n",
    "plt.axis('off')\n",
    "plt.imshow(np.mean(X_z, axis=(0, 1)))\n",
    "\n",
    "plt.subplot(2, 4, 5)\n",
    "plt.axis('off')\n",
    "plt.imshow(X_ground_truth[0, 0])\n",
    "\n",
    "plt.subplot(2, 4, 6)\n",
    "plt.axis('off')\n",
    "plt.imshow(X_x[0, 0])\n",
    "\n",
    "plt.subplot(2, 4, 7)\n",
    "plt.axis('off')\n",
    "plt.imshow(X_y[0, 0])\n",
    "\n",
    "plt.subplot(2, 4, 8)\n",
    "plt.axis('off')\n",
    "plt.imshow(X_z[0, 0])\n",
    "\n",
    "plt.savefig('PythiaTracker-example.pdf')"
   ]
  },
  {
   "cell_type": "code",
   "execution_count": null,
   "metadata": {},
   "outputs": [],
   "source": []
  }
 ],
 "metadata": {
  "kernelspec": {
   "display_name": "Python 3",
   "language": "python",
   "name": "python3"
  },
  "language_info": {
   "codemirror_mode": {
    "name": "ipython",
    "version": 3
   },
   "file_extension": ".py",
   "mimetype": "text/x-python",
   "name": "python",
   "nbconvert_exporter": "python",
   "pygments_lexer": "ipython3",
   "version": "3.6.6"
  }
 },
 "nbformat": 4,
 "nbformat_minor": 2
}
