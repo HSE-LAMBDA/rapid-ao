{
 "cells": [
  {
   "cell_type": "code",
   "execution_count": 1,
   "metadata": {},
   "outputs": [],
   "source": [
    "import numpy as np\n",
    "\n",
    "%matplotlib inline\n",
    "import matplotlib.pyplot as plt\n",
    "\n",
    "from tqdm import tqdm_notebook as tqdm\n",
    "\n",
    "from advopt import tasks\n",
    "\n",
    "from advopt.classifier import *\n",
    "from advopt.target.utils import combine\n",
    "from advopt.target import logloss\n",
    "\n",
    "import torch"
   ]
  },
  {
   "cell_type": "code",
   "execution_count": 2,
   "metadata": {},
   "outputs": [],
   "source": [
    "task = tasks.XOR()\n",
    "assert len(task.search_space()) == 1, 'This example only works for 1D search space.'\n",
    "\n",
    "params = np.linspace(task.search_space()[0][0], task.search_space()[0][1], num=21)\n",
    "\n",
    "clf_type = 'NN'\n",
    "device='cuda:0'\n",
    "size = 32 * 1024"
   ]
  },
  {
   "cell_type": "code",
   "execution_count": 3,
   "metadata": {},
   "outputs": [],
   "source": [
    "clfs = dict()\n",
    "\n",
    "n_control = 4\n",
    "n_units = 128\n",
    "\n",
    "grad_penalty = 1e-2\n",
    "\n",
    "clfs['JSD'] = Network(\n",
    "    Dense(2, hidden_units=128, dropout=False),\n",
    "    device=device, min_stagnation=1024,\n",
    "    regularization=None, capacity=lincapacity(3),\n",
    "    const_regularization=r1_reg(1),\n",
    "    stop_diff=2e-2\n",
    "  )\n",
    "\n",
    "for i in range(n_control):\n",
    "    clfs['JSD_%d' % (i + 1, )] = Network(\n",
    "        Dense(2, hidden_units=128, dropout=True),\n",
    "        device=device, min_stagnation=1024,\n",
    "        regularization=None, capacity=constcapacity((i + 1) / (n_control + 1), device=device),\n",
    "        const_regularization=r1_reg(1),\n",
    "        stop_diff=2e-2\n",
    "      )\n",
    "\n",
    "clfs['JSD-dropout'] = Network(\n",
    "    Dense(2, hidden_units=128, dropout=True),\n",
    "    device=device, min_stagnation=1024,\n",
    "    regularization=None, capacity=lincapacity(3),\n",
    "    const_regularization=r1_reg(1),\n",
    "    stop_diff=2e-2\n",
    ")\n",
    "\n",
    "clfs['JSD-l2'] = Network(\n",
    "    Dense(2, hidden_units=128, dropout=False),\n",
    "    device=device, min_stagnation=1024,\n",
    "    regularization=l2_reg(1e-2), capacity=logcapacity(10),\n",
    "    const_regularization=r1_reg(1),\n",
    "    stop_diff=2e-2\n",
    ")"
   ]
  },
  {
   "cell_type": "code",
   "execution_count": 4,
   "metadata": {},
   "outputs": [],
   "source": [
    "### to obtain smooth curves we reuse the same data\n",
    "### the same effect can be achieved by averaging curves over multiple runs.\n",
    "\n",
    "data_pos = task.ground_truth_generator()(size)\n",
    "data_pos_test = task.ground_truth_generator()(size)\n",
    "\n",
    "if task.is_synthetic():\n",
    "    data_neg_0 = task.ground_truth_generator()(size)\n",
    "    data_neg_test_0 = task.ground_truth_generator()(size)\n",
    "else:\n",
    "    data_neg_0 = None\n",
    "    data_neg_test_0 = None"
   ]
  },
  {
   "cell_type": "code",
   "execution_count": null,
   "metadata": {},
   "outputs": [
    {
     "name": "stderr",
     "output_type": "stream",
     "text": [
      "Traceback (most recent call last):\n",
      "  File \"<ipython-input-5-aaaa25d5b838>\", line 3, in <module>\n",
      "    d_neg, _ = task.generator(task.example_parameters())(size)\n",
      "ValueError: too many values to unpack (expected 2)\n"
     ]
    }
   ],
   "source": [
    "try:\n",
    "    d_pos = task.ground_truth_generator()(size)\n",
    "    d_neg, _ = task.generator(task.example_parameters())(size)\n",
    "    \n",
    "    plt.figure(figsize=(4, 4))\n",
    "    plt.scatter(d_neg[:512, 0], d_neg[:512, 1], label='generator', s=10)\n",
    "    plt.scatter(d_pos[:512, 0], d_pos[:512, 1], label='ground-truth', s=10)\n",
    "    plt.legend(loc='upper left', fontsize=14)\n",
    "    plt.savefig('%s-example.pdf' % (task.name(), ))\n",
    "except:\n",
    "    import traceback as tb\n",
    "    tb.print_exc()"
   ]
  },
  {
   "cell_type": "code",
   "execution_count": null,
   "metadata": {},
   "outputs": [
    {
     "data": {
      "application/vnd.jupyter.widget-view+json": {
       "model_id": "d8ed197b2d834651a3f705718bf7d995",
       "version_major": 2,
       "version_minor": 0
      },
      "text/plain": [
       "HBox(children=(IntProgress(value=0, max=21), HTML(value='')))"
      ]
     },
     "metadata": {},
     "output_type": "display_data"
    }
   ],
   "source": [
    "divergences = {\n",
    "    name : np.zeros(shape=(params.shape[0], ))\n",
    "    for name in clfs\n",
    "}\n",
    "\n",
    "for i, param in enumerate(tqdm(params)):\n",
    "    if task.is_synthetic():\n",
    "        data_neg = task.transform(data_neg_0, [param])\n",
    "        data_neg_test = task.transform(data_neg_test_0, [param])\n",
    "    else:\n",
    "        data_neg = task.generator([param])(size)\n",
    "        data_neg_test = task.generator([param])(size)\n",
    "        \n",
    "    data, labels = combine(data_pos, data_neg)\n",
    "    data_test, labels_test = combine(data_pos_test, data_neg_test)\n",
    "    \n",
    "    for name in clfs:\n",
    "        clf = clfs[name]\n",
    "        \n",
    "        X_pos = torch.tensor(data[labels > 0.5, :], device=device, requires_grad=False, dtype=torch.float32)\n",
    "        X_neg = torch.tensor(data[labels < 0.5, :], device=device, requires_grad=False, dtype=torch.float32)\n",
    "        \n",
    "        clf.fixed_fit(X_pos, X_neg, n_iterations=4 * 1024)\n",
    "        proba = clf.predict_proba(data_test)\n",
    "        \n",
    "        divergences[name][i] = np.log(2) - np.mean(\n",
    "            logloss(labels_test, proba[:, 1])\n",
    "        )"
   ]
  },
  {
   "cell_type": "code",
   "execution_count": null,
   "metadata": {},
   "outputs": [],
   "source": [
    "import pickle\n",
    "with open('pJSD-%s-%s.pickled' % (task.name(), clf_type), 'wb') as f:\n",
    "    pickle.dump(divergences, f)"
   ]
  },
  {
   "cell_type": "code",
   "execution_count": null,
   "metadata": {},
   "outputs": [],
   "source": [
    "import pickle\n",
    "with open('pJSD-%s-%s.pickled' % (task.name(), clf_type), 'rb') as f:\n",
    "    divergences = pickle.load(f)"
   ]
  },
  {
   "cell_type": "code",
   "execution_count": null,
   "metadata": {},
   "outputs": [],
   "source": [
    "plt.figure(figsize=(8, 8))\n",
    "for i in range(4):\n",
    "    plt.plot(params, divergences['JSD_%d' % (i + 1, )], '--', color='black')\n",
    "\n",
    "plt.plot(params, divergences['JSD'], '-', color='black', label='JSD')\n",
    "\n",
    "plt.plot(params, divergences['JSD-l2'], lw=2, label='linear pJSD', color=plt.cm.tab10(0))\n",
    "plt.plot(params, divergences['JSD-dropout'], lw=2, label='logarithmic pJSD', color=plt.cm.tab10(1))\n",
    "    \n",
    "plt.legend(loc='upper left', fontsize=14, framealpha=0.95)\n",
    "plt.xlabel(task.parameters_names()[0], fontsize=14)\n",
    "plt.ylabel('divergence', fontsize=14)\n",
    "\n",
    "plt.savefig('%s-%s.pdf' % (task.name(), clf_type))"
   ]
  },
  {
   "cell_type": "code",
   "execution_count": null,
   "metadata": {},
   "outputs": [],
   "source": []
  }
 ],
 "metadata": {
  "kernelspec": {
   "display_name": "Python 3",
   "language": "python",
   "name": "python3"
  },
  "language_info": {
   "codemirror_mode": {
    "name": "ipython",
    "version": 3
   },
   "file_extension": ".py",
   "mimetype": "text/x-python",
   "name": "python",
   "nbconvert_exporter": "python",
   "pygments_lexer": "ipython3",
   "version": "3.6.7"
  }
 },
 "nbformat": 4,
 "nbformat_minor": 2
}
