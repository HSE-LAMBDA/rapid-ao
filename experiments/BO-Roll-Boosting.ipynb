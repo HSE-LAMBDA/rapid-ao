{
 "cells": [
  {
   "cell_type": "code",
   "execution_count": null,
   "metadata": {},
   "outputs": [],
   "source": [
    "import os\n",
    "import numpy as np\n",
    "\n",
    "%matplotlib inline\n",
    "import matplotlib.pyplot as plt\n",
    "from tqdm import tqdm_notebook as tqdm\n",
    "\n",
    "from skopt.learning import GaussianProcessRegressor\n",
    "from skopt.learning.gaussian_process.kernels import Matern\n",
    "\n",
    "from advopt import *\n",
    "\n",
    "SEED = 999111"
   ]
  },
  {
   "cell_type": "code",
   "execution_count": null,
   "metadata": {},
   "outputs": [],
   "source": [
    "task = tasks.SwissRoll()\n",
    "\n",
    "DATA_ROOT=os.path.join(\n",
    "    os.environ.get('DATA_ROOT', './'),\n",
    "    'RAO'\n",
    ")\n",
    "\n",
    "repeat = 100\n",
    "budget = 256000"
   ]
  },
  {
   "cell_type": "code",
   "execution_count": null,
   "metadata": {},
   "outputs": [],
   "source": [
    "results = experiment(\n",
    "    DATA_ROOT,\n",
    "    models=['JSD-GBDT', 'log-pJSD-GBDT', 'lin-pJSD-GBDT'],\n",
    "    optimizer=bayesian_optimization(\n",
    "        base_estimator=GaussianProcessRegressor(\n",
    "            kernel=Matern(length_scale=1, length_scale_bounds=(1e-2, 1e+2)),\n",
    "            alpha=1e-4\n",
    "        ),\n",
    "        n_initial_points=5\n",
    "    ),\n",
    "    task=task,\n",
    "    budget=budget,\n",
    "    repeat=repeat,\n",
    "    progress=tqdm,\n",
    "    devices=['cpu'],\n",
    "    seed=SEED\n",
    ")"
   ]
  },
  {
   "cell_type": "code",
   "execution_count": null,
   "metadata": {},
   "outputs": [],
   "source": [
    "plt.figure(figsize=(6, 6))\n",
    "plot_convergence(\n",
    "    results, distance_to([0.0]), budget=budget, qs=(0.4, ),\n",
    "    properties={\n",
    "        'JSD-GBDT' : dict(color='black', label='JSD'),\n",
    "        'lin-pJSD-GBDT' : dict(color=plt.cm.tab10(0), label='lin-pJSD'),\n",
    "        'log-pJSD-GBDT' : dict(color=plt.cm.tab10(1), label='log-pJSD')\n",
    "    },\n",
    "    individual=False\n",
    ")\n",
    "plt.yscale('log')\n",
    "plt.xlabel('examples sampled', fontsize=14)\n",
    "plt.ylabel('distance to the solution', fontsize=14)\n",
    "plt.legend(loc='upper right', fontsize=14)\n",
    "plt.savefig(os.path.join(\n",
    "    DATA_ROOT, \n",
    "    '%s-%d-BO-GBDT.pdf' % (task.name(), budget)\n",
    "))"
   ]
  },
  {
   "cell_type": "code",
   "execution_count": null,
   "metadata": {},
   "outputs": [],
   "source": []
  }
 ],
 "metadata": {
  "kernelspec": {
   "display_name": "Python 3",
   "language": "python",
   "name": "python3"
  },
  "language_info": {
   "codemirror_mode": {
    "name": "ipython",
    "version": 3
   },
   "file_extension": ".py",
   "mimetype": "text/x-python",
   "name": "python",
   "nbconvert_exporter": "python",
   "pygments_lexer": "ipython3",
   "version": "3.6.6"
  }
 },
 "nbformat": 4,
 "nbformat_minor": 2
}
